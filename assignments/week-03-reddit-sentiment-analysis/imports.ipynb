{
 "cells": [
  {
   "cell_type": "code",
   "execution_count": 1,
   "id": "dd8ca316",
   "metadata": {},
   "outputs": [
    {
     "name": "stdout",
     "output_type": "stream",
     "text": [
      "Requirement already satisfied: transformers in /home/felix/anaconda3/envs/mle-course/lib/python3.8/site-packages (4.24.0)\n",
      "Requirement already satisfied: praw in /home/felix/anaconda3/envs/mle-course/lib/python3.8/site-packages (7.6.0)\n",
      "Requirement already satisfied: torch in /home/felix/anaconda3/envs/mle-course/lib/python3.8/site-packages (1.13.0)\n",
      "Requirement already satisfied: numpy in /home/felix/anaconda3/envs/mle-course/lib/python3.8/site-packages (1.23.4)\n",
      "Requirement already satisfied: pandas in /home/felix/anaconda3/envs/mle-course/lib/python3.8/site-packages (1.5.1)\n",
      "Requirement already satisfied: regex!=2019.12.17 in /home/felix/anaconda3/envs/mle-course/lib/python3.8/site-packages (from transformers) (2022.9.13)\n",
      "Requirement already satisfied: packaging>=20.0 in /home/felix/anaconda3/envs/mle-course/lib/python3.8/site-packages (from transformers) (21.3)\n",
      "Requirement already satisfied: huggingface-hub<1.0,>=0.10.0 in /home/felix/anaconda3/envs/mle-course/lib/python3.8/site-packages (from transformers) (0.10.1)\n",
      "Requirement already satisfied: filelock in /home/felix/anaconda3/envs/mle-course/lib/python3.8/site-packages (from transformers) (3.8.0)\n",
      "Requirement already satisfied: tokenizers!=0.11.3,<0.14,>=0.11.1 in /home/felix/anaconda3/envs/mle-course/lib/python3.8/site-packages (from transformers) (0.13.1)\n",
      "Requirement already satisfied: tqdm>=4.27 in /home/felix/anaconda3/envs/mle-course/lib/python3.8/site-packages (from transformers) (4.64.1)\n",
      "Requirement already satisfied: requests in /home/felix/anaconda3/envs/mle-course/lib/python3.8/site-packages (from transformers) (2.28.1)\n",
      "Requirement already satisfied: pyyaml>=5.1 in /home/felix/anaconda3/envs/mle-course/lib/python3.8/site-packages (from transformers) (6.0)\n",
      "Requirement already satisfied: websocket-client>=0.54.0 in /home/felix/anaconda3/envs/mle-course/lib/python3.8/site-packages (from praw) (1.4.1)\n",
      "Requirement already satisfied: update-checker>=0.18 in /home/felix/anaconda3/envs/mle-course/lib/python3.8/site-packages (from praw) (0.18.0)\n",
      "Requirement already satisfied: prawcore<3,>=2.1 in /home/felix/anaconda3/envs/mle-course/lib/python3.8/site-packages (from praw) (2.3.0)\n",
      "Requirement already satisfied: typing-extensions in /home/felix/anaconda3/envs/mle-course/lib/python3.8/site-packages (from torch) (4.4.0)\n",
      "Requirement already satisfied: nvidia-cudnn-cu11==8.5.0.96 in /home/felix/anaconda3/envs/mle-course/lib/python3.8/site-packages (from torch) (8.5.0.96)\n",
      "Requirement already satisfied: nvidia-cuda-runtime-cu11==11.7.99 in /home/felix/anaconda3/envs/mle-course/lib/python3.8/site-packages (from torch) (11.7.99)\n",
      "Requirement already satisfied: nvidia-cublas-cu11==11.10.3.66 in /home/felix/anaconda3/envs/mle-course/lib/python3.8/site-packages (from torch) (11.10.3.66)\n",
      "Requirement already satisfied: nvidia-cuda-nvrtc-cu11==11.7.99 in /home/felix/anaconda3/envs/mle-course/lib/python3.8/site-packages (from torch) (11.7.99)\n",
      "Requirement already satisfied: wheel in /home/felix/anaconda3/envs/mle-course/lib/python3.8/site-packages (from nvidia-cublas-cu11==11.10.3.66->torch) (0.37.1)\n",
      "Requirement already satisfied: setuptools in /home/felix/anaconda3/envs/mle-course/lib/python3.8/site-packages (from nvidia-cublas-cu11==11.10.3.66->torch) (63.4.1)\n",
      "Requirement already satisfied: python-dateutil>=2.8.1 in /home/felix/anaconda3/envs/mle-course/lib/python3.8/site-packages (from pandas) (2.8.2)\n",
      "Requirement already satisfied: pytz>=2020.1 in /home/felix/anaconda3/envs/mle-course/lib/python3.8/site-packages (from pandas) (2022.4)\n",
      "Requirement already satisfied: pyparsing!=3.0.5,>=2.0.2 in /home/felix/anaconda3/envs/mle-course/lib/python3.8/site-packages (from packaging>=20.0->transformers) (3.0.9)\n",
      "Requirement already satisfied: six>=1.5 in /home/felix/anaconda3/envs/mle-course/lib/python3.8/site-packages (from python-dateutil>=2.8.1->pandas) (1.16.0)\n",
      "Requirement already satisfied: charset-normalizer<3,>=2 in /home/felix/anaconda3/envs/mle-course/lib/python3.8/site-packages (from requests->transformers) (2.1.1)\n",
      "Requirement already satisfied: certifi>=2017.4.17 in /home/felix/anaconda3/envs/mle-course/lib/python3.8/site-packages (from requests->transformers) (2022.9.24)\n",
      "Requirement already satisfied: urllib3<1.27,>=1.21.1 in /home/felix/anaconda3/envs/mle-course/lib/python3.8/site-packages (from requests->transformers) (1.26.12)\n",
      "Requirement already satisfied: idna<4,>=2.5 in /home/felix/anaconda3/envs/mle-course/lib/python3.8/site-packages (from requests->transformers) (3.4)\n",
      "Note: you may need to restart the kernel to use updated packages.\n"
     ]
    }
   ],
   "source": [
    "pip install -U transformers praw torch numpy pandas"
   ]
  }
 ],
 "metadata": {
  "kernelspec": {
   "display_name": "mle-course",
   "language": "python",
   "name": "mle-course"
  },
  "language_info": {
   "codemirror_mode": {
    "name": "ipython",
    "version": 3
   },
   "file_extension": ".py",
   "mimetype": "text/x-python",
   "name": "python",
   "nbconvert_exporter": "python",
   "pygments_lexer": "ipython3",
   "version": "3.8.13"
  }
 },
 "nbformat": 4,
 "nbformat_minor": 5
}
